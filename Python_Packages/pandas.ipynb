{
 "cells": [
  {
   "cell_type": "code",
   "execution_count": 1,
   "metadata": {},
   "outputs": [],
   "source": [
    "import pandas as pd\n",
    "import numpy as np\n",
    "import matplotlib\n",
    "import seaborn as sns"
   ]
  },
  {
   "cell_type": "code",
   "execution_count": 2,
   "metadata": {},
   "outputs": [
    {
     "name": "stdout",
     "output_type": "stream",
     "text": [
      "Index(['City', 'Edition', 'Sport', 'Discipline', 'Athlete', 'NOC', 'Gender',\n",
      "       'Event', 'Event_gender', 'Medal'],\n",
      "      dtype='object')\n"
     ]
    }
   ],
   "source": [
    "oo = pd.read_csv('olympics.csv', skiprows = 4)\n",
    "print(oo.columns)"
   ]
  },
  {
   "cell_type": "code",
   "execution_count": 30,
   "metadata": {},
   "outputs": [],
   "source": [
    "owens = oo[oo.Athlete.str.contains('OWENS')]"
   ]
  },
  {
   "cell_type": "code",
   "execution_count": 31,
   "metadata": {},
   "outputs": [
    {
     "name": "stdout",
     "output_type": "stream",
     "text": [
      "           Athlete      Sport         Event Medal\n",
      "6427  OWENS, Jesse  Athletics          100m  Gold\n",
      "6439  OWENS, Jesse  Athletics          200m  Gold\n",
      "6456  OWENS, Jesse  Athletics  4x100m relay  Gold\n",
      "6523  OWENS, Jesse  Athletics     long jump  Gold\n"
     ]
    }
   ],
   "source": [
    "columns = ['Athlete', 'Sport', 'Event', 'Medal']\n",
    "print(owens[columns])"
   ]
  },
  {
   "cell_type": "code",
   "execution_count": 42,
   "metadata": {},
   "outputs": [],
   "source": [
    "bm_mens = oo[(oo.Sport.str.contains('Badminton')) & (oo.Event.str.contains('singles')) & (oo.Event_gender.str.contains('M')) & (oo.Medal.str.contains('Gold'))]\n",
    "bm_mens_winners = bm_mens.sort_values(by = ['Athlete'])"
   ]
  },
  {
   "cell_type": "code",
   "execution_count": 43,
   "metadata": {},
   "outputs": [
    {
     "name": "stdout",
     "output_type": "stream",
     "text": [
      "            City  Edition      Sport Discipline                  Athlete  NOC  \\\n",
      "20045  Barcelona     1992  Badminton  Badminton        BUDI KUSUMA, Alan  INA   \n",
      "25734     Athens     2004  Badminton  Badminton          HIDAYAT, Taufik  INA   \n",
      "21787    Atlanta     1996  Badminton  Badminton  HOYER-LARSEN, Poul Erik  DEN   \n",
      "23717     Sydney     2000  Badminton  Badminton              JI, Xinpeng  CHN   \n",
      "27741    Beijing     2008  Badminton  Badminton                 LIN, Dan  CHN   \n",
      "\n",
      "      Gender    Event Event_gender Medal  \n",
      "20045    Men  singles            M  Gold  \n",
      "25734    Men  singles            M  Gold  \n",
      "21787    Men  singles            M  Gold  \n",
      "23717    Men  singles            M  Gold  \n",
      "27741    Men  singles            M  Gold  \n"
     ]
    }
   ],
   "source": [
    "print(bm_mens_winners)"
   ]
  },
  {
   "cell_type": "code",
   "execution_count": 36,
   "metadata": {},
   "outputs": [
    {
     "name": "stdout",
     "output_type": "stream",
     "text": [
      "<class 'pandas.core.series.Series'>\n",
      "USA    1837\n",
      "AUS     762\n",
      "GER     691\n",
      "CHN     679\n",
      "RUS     638\n",
      "KOR     437\n",
      "ITA     418\n",
      "NED     407\n",
      "FRA     400\n",
      "GBR     390\n",
      "ROU     355\n",
      "JPN     347\n",
      "BRA     306\n",
      "CUB     305\n",
      "ESP     298\n",
      "URS     294\n",
      "CAN     284\n",
      "FRG     270\n",
      "HUN     252\n",
      "EUN     223\n",
      "YUG     202\n",
      "GDR     174\n",
      "SWE     165\n",
      "ARG     153\n",
      "NOR     148\n",
      "UKR     148\n",
      "POL     140\n",
      "DEN     132\n",
      "BUL     114\n",
      "NZL      95\n",
      "BLR      92\n",
      "JAM      84\n",
      "NGR      82\n",
      "CRO      79\n",
      "GRE      69\n",
      "SUI      67\n",
      "KEN      56\n",
      "Name: NOC, dtype: int64\n"
     ]
    }
   ],
   "source": [
    "recents = oo[(oo.Edition >= 1984) & (oo.Edition <= 2008)]\n",
    "recents2 = recents.NOC.value_counts()\n",
    "print(type(recents2))\n",
    "recents3 = recents2[recents2 > 50]\n",
    "print(recents3)\n",
    "#recents3 = recents2[recents2]\n",
    "#recents3.plot(kind = 'pie', figsize = (16,8), colormap = 'YlOrRd')"
   ]
  },
  {
   "cell_type": "code",
   "execution_count": 35,
   "metadata": {},
   "outputs": [
    {
     "data": {
      "text/plain": [
       "<AxesSubplot:xlabel='Medal', ylabel='count'>"
      ]
     },
     "execution_count": 35,
     "metadata": {},
     "output_type": "execute_result"
    },
    {
     "data": {
      "image/png": "[encoded data removed]",
      "text/plain": [
       "<Figure size 432x288 with 1 Axes>"
      ]
     },
     "metadata": {
      "needs_background": "light"
     },
     "output_type": "display_data"
    }
   ],
   "source": [
    "sns.countplot(x='Medal', data = oo, hue = 'Gender')"
   ]
  },
  {
   "cell_type": "code",
   "execution_count": 57,
   "metadata": {},
   "outputs": [
    {
     "data": {
      "text/plain": [
       "<AxesSubplot:xlabel='Medal', ylabel='count'>"
      ]
     },
     "execution_count": 57,
     "metadata": {},
     "output_type": "execute_result"
    },
    {
     "data": {
      "image/png": "[encoded data removed]",
      "text/plain": [
       "<Figure size 432x288 with 1 Axes>"
      ]
     },
     "metadata": {
      "needs_background": "light"
     },
     "output_type": "display_data"
    }
   ],
   "source": [
    "china = oo[(oo.NOC == 'CHN') & (oo.Edition == 2008)]\n",
    "sns.countplot(x='Medal', data = china, hue = 'Gender', palette = 'bwr', order = ['Gold','Silver','Bronze'])\n",
    "#china.Gender.value_counts().plot(kind = 'bar', colormap = 'bwr')\n"
   ]
  },
  {
   "cell_type": "code",
   "execution_count": 92,
   "metadata": {},
   "outputs": [
    {
     "data": {
      "text/plain": [
       "<AxesSubplot:>"
      ]
     },
     "execution_count": 92,
     "metadata": {},
     "output_type": "execute_result"
    },
    {
     "data": {
      "image/png": "[encoded data removed]",
      "text/plain": [
       "<Figure size 432x288 with 1 Axes>"
      ]
     },
     "metadata": {
      "needs_background": "light"
     },
     "output_type": "display_data"
    }
   ],
   "source": [
    "#year = oo.set_index('Edition')\n",
    "#year.sort_index()\n",
    "#medals = year.value_counts()\n",
    "oo.Edition.value_counts().sort_index().plot()\n",
    "#sns.displot(data = medals, hue = 'Medal', palette = 'bwr', order = ['Gold','Silver','Bronze'])"
   ]
  },
  {
   "cell_type": "code",
   "execution_count": 103,
   "metadata": {},
   "outputs": [
    {
     "data": {
      "text/plain": [
       "<AxesSubplot:xlabel='Edition'>"
      ]
     },
     "execution_count": 103,
     "metadata": {},
     "output_type": "execute_result"
    },
    {
     "data": {
      "image/png": "[encoded data removed]",
      "text/plain": [
       "<Figure size 432x288 with 1 Axes>"
      ]
     },
     "metadata": {
      "needs_background": "light"
     },
     "output_type": "display_data"
    }
   ],
   "source": [
    "medals = oo.groupby('Edition').agg('count')\n",
    "medals.Medal.plot()"
   ]
  },
  {
   "cell_type": "code",
   "execution_count": 108,
   "metadata": {},
   "outputs": [
    {
     "data": {
      "text/html": [
       "<div>\n",
       "<style scoped>\n",
       "    .dataframe tbody tr th:only-of-type {\n",
       "        vertical-align: middle;\n",
       "    }\n",
       "\n",
       "    .dataframe tbody tr th {\n",
       "        vertical-align: top;\n",
       "    }\n",
       "\n",
       "    .dataframe thead tr th {\n",
       "        text-align: left;\n",
       "    }\n",
       "\n",
       "    .dataframe thead tr:last-of-type th {\n",
       "        text-align: right;\n",
       "    }\n",
       "</style>\n",
       "<table border=\"1\" class=\"dataframe\">\n",
       "  <thead>\n",
       "    <tr>\n",
       "      <th></th>\n",
       "      <th colspan=\"3\" halign=\"left\">Edition</th>\n",
       "    </tr>\n",
       "    <tr>\n",
       "      <th></th>\n",
       "      <th>min</th>\n",
       "      <th>max</th>\n",
       "      <th>count</th>\n",
       "    </tr>\n",
       "    <tr>\n",
       "      <th>NOC</th>\n",
       "      <th></th>\n",
       "      <th></th>\n",
       "      <th></th>\n",
       "    </tr>\n",
       "  </thead>\n",
       "  <tbody>\n",
       "    <tr>\n",
       "      <th>AFG</th>\n",
       "      <td>2008</td>\n",
       "      <td>2008</td>\n",
       "      <td>1</td>\n",
       "    </tr>\n",
       "    <tr>\n",
       "      <th>AHO</th>\n",
       "      <td>1988</td>\n",
       "      <td>1988</td>\n",
       "      <td>1</td>\n",
       "    </tr>\n",
       "    <tr>\n",
       "      <th>ALG</th>\n",
       "      <td>1984</td>\n",
       "      <td>2008</td>\n",
       "      <td>14</td>\n",
       "    </tr>\n",
       "    <tr>\n",
       "      <th>ANZ</th>\n",
       "      <td>1908</td>\n",
       "      <td>1912</td>\n",
       "      <td>29</td>\n",
       "    </tr>\n",
       "    <tr>\n",
       "      <th>ARG</th>\n",
       "      <td>1924</td>\n",
       "      <td>2008</td>\n",
       "      <td>239</td>\n",
       "    </tr>\n",
       "    <tr>\n",
       "      <th>...</th>\n",
       "      <td>...</td>\n",
       "      <td>...</td>\n",
       "      <td>...</td>\n",
       "    </tr>\n",
       "    <tr>\n",
       "      <th>VIE</th>\n",
       "      <td>2000</td>\n",
       "      <td>2008</td>\n",
       "      <td>2</td>\n",
       "    </tr>\n",
       "    <tr>\n",
       "      <th>YUG</th>\n",
       "      <td>1924</td>\n",
       "      <td>2000</td>\n",
       "      <td>435</td>\n",
       "    </tr>\n",
       "    <tr>\n",
       "      <th>ZAM</th>\n",
       "      <td>1984</td>\n",
       "      <td>1996</td>\n",
       "      <td>2</td>\n",
       "    </tr>\n",
       "    <tr>\n",
       "      <th>ZIM</th>\n",
       "      <td>1980</td>\n",
       "      <td>2008</td>\n",
       "      <td>23</td>\n",
       "    </tr>\n",
       "    <tr>\n",
       "      <th>ZZX</th>\n",
       "      <td>1896</td>\n",
       "      <td>1904</td>\n",
       "      <td>48</td>\n",
       "    </tr>\n",
       "  </tbody>\n",
       "</table>\n",
       "<p>138 rows × 3 columns</p>\n",
       "</div>"
      ],
      "text/plain": [
       "    Edition            \n",
       "        min   max count\n",
       "NOC                    \n",
       "AFG    2008  2008     1\n",
       "AHO    1988  1988     1\n",
       "ALG    1984  2008    14\n",
       "ANZ    1908  1912    29\n",
       "ARG    1924  2008   239\n",
       "..      ...   ...   ...\n",
       "VIE    2000  2008     2\n",
       "YUG    1924  2000   435\n",
       "ZAM    1984  1996     2\n",
       "ZIM    1980  2008    23\n",
       "ZZX    1896  1904    48\n",
       "\n",
       "[138 rows x 3 columns]"
      ]
     },
     "execution_count": 108,
     "metadata": {},
     "output_type": "execute_result"
    }
   ],
   "source": [
    "oo.groupby('NOC').agg({'Edition':['min','max','count']})\n"
   ]
  },
  {
   "cell_type": "code",
   "execution_count": 121,
   "metadata": {},
   "outputs": [],
   "source": [
    "mw = oo[(oo.Edition == 2008) & ((oo.Event == '100m') | (oo.Event == '200m'))]\n",
    "g = mw.groupby(['NOC','Gender','Discipline','Event']).size()\n"
   ]
  },
  {
   "cell_type": "code",
   "execution_count": 127,
   "metadata": {},
   "outputs": [
    {
     "data": {
      "text/html": [
       "<div>\n",
       "<style scoped>\n",
       "    .dataframe tbody tr th:only-of-type {\n",
       "        vertical-align: middle;\n",
       "    }\n",
       "\n",
       "    .dataframe tbody tr th {\n",
       "        vertical-align: top;\n",
       "    }\n",
       "\n",
       "    .dataframe thead th {\n",
       "        text-align: right;\n",
       "    }\n",
       "</style>\n",
       "<table border=\"1\" class=\"dataframe\">\n",
       "  <thead>\n",
       "    <tr style=\"text-align: right;\">\n",
       "      <th></th>\n",
       "      <th></th>\n",
       "      <th>Discipline</th>\n",
       "      <th>Athletics</th>\n",
       "    </tr>\n",
       "    <tr>\n",
       "      <th>NOC</th>\n",
       "      <th>Gender</th>\n",
       "      <th>Event</th>\n",
       "      <th></th>\n",
       "    </tr>\n",
       "  </thead>\n",
       "  <tbody>\n",
       "    <tr>\n",
       "      <th rowspan=\"4\" valign=\"top\">JAM</th>\n",
       "      <th rowspan=\"2\" valign=\"top\">Men</th>\n",
       "      <th>100m</th>\n",
       "      <td>1.0</td>\n",
       "    </tr>\n",
       "    <tr>\n",
       "      <th>200m</th>\n",
       "      <td>1.0</td>\n",
       "    </tr>\n",
       "    <tr>\n",
       "      <th rowspan=\"2\" valign=\"top\">Women</th>\n",
       "      <th>100m</th>\n",
       "      <td>3.0</td>\n",
       "    </tr>\n",
       "    <tr>\n",
       "      <th>200m</th>\n",
       "      <td>2.0</td>\n",
       "    </tr>\n",
       "    <tr>\n",
       "      <th>TRI</th>\n",
       "      <th>Men</th>\n",
       "      <th>100m</th>\n",
       "      <td>1.0</td>\n",
       "    </tr>\n",
       "    <tr>\n",
       "      <th rowspan=\"3\" valign=\"top\">USA</th>\n",
       "      <th rowspan=\"2\" valign=\"top\">Men</th>\n",
       "      <th>100m</th>\n",
       "      <td>1.0</td>\n",
       "    </tr>\n",
       "    <tr>\n",
       "      <th>200m</th>\n",
       "      <td>2.0</td>\n",
       "    </tr>\n",
       "    <tr>\n",
       "      <th>Women</th>\n",
       "      <th>200m</th>\n",
       "      <td>1.0</td>\n",
       "    </tr>\n",
       "  </tbody>\n",
       "</table>\n",
       "</div>"
      ],
      "text/plain": [
       "Discipline        Athletics\n",
       "NOC Gender Event           \n",
       "JAM Men    100m         1.0\n",
       "           200m         1.0\n",
       "    Women  100m         3.0\n",
       "           200m         2.0\n",
       "TRI Men    100m         1.0\n",
       "USA Men    100m         1.0\n",
       "           200m         2.0\n",
       "    Women  200m         1.0"
      ]
     },
     "execution_count": 127,
     "metadata": {},
     "output_type": "execute_result"
    }
   ],
   "source": [
    "df = g.unstack(['Discipline','Event'])\n",
    "df.stack('Event')"
   ]
  },
  {
   "cell_type": "code",
   "execution_count": 128,
   "metadata": {},
   "outputs": [
    {
     "data": {
      "text/html": [
       "<div>\n",
       "<style scoped>\n",
       "    .dataframe tbody tr th:only-of-type {\n",
       "        vertical-align: middle;\n",
       "    }\n",
       "\n",
       "    .dataframe tbody tr th {\n",
       "        vertical-align: top;\n",
       "    }\n",
       "\n",
       "    .dataframe thead tr th {\n",
       "        text-align: left;\n",
       "    }\n",
       "\n",
       "    .dataframe thead tr:last-of-type th {\n",
       "        text-align: right;\n",
       "    }\n",
       "</style>\n",
       "<table border=\"1\" class=\"dataframe\">\n",
       "  <thead>\n",
       "    <tr>\n",
       "      <th>Discipline</th>\n",
       "      <th colspan=\"4\" halign=\"left\">Athletics</th>\n",
       "    </tr>\n",
       "    <tr>\n",
       "      <th>Event</th>\n",
       "      <th colspan=\"2\" halign=\"left\">100m</th>\n",
       "      <th colspan=\"2\" halign=\"left\">200m</th>\n",
       "    </tr>\n",
       "    <tr>\n",
       "      <th>Gender</th>\n",
       "      <th>Men</th>\n",
       "      <th>Women</th>\n",
       "      <th>Men</th>\n",
       "      <th>Women</th>\n",
       "    </tr>\n",
       "    <tr>\n",
       "      <th>NOC</th>\n",
       "      <th></th>\n",
       "      <th></th>\n",
       "      <th></th>\n",
       "      <th></th>\n",
       "    </tr>\n",
       "  </thead>\n",
       "  <tbody>\n",
       "    <tr>\n",
       "      <th>JAM</th>\n",
       "      <td>1.0</td>\n",
       "      <td>3.0</td>\n",
       "      <td>1.0</td>\n",
       "      <td>2.0</td>\n",
       "    </tr>\n",
       "    <tr>\n",
       "      <th>TRI</th>\n",
       "      <td>1.0</td>\n",
       "      <td>NaN</td>\n",
       "      <td>NaN</td>\n",
       "      <td>NaN</td>\n",
       "    </tr>\n",
       "    <tr>\n",
       "      <th>USA</th>\n",
       "      <td>1.0</td>\n",
       "      <td>NaN</td>\n",
       "      <td>2.0</td>\n",
       "      <td>1.0</td>\n",
       "    </tr>\n",
       "  </tbody>\n",
       "</table>\n",
       "</div>"
      ],
      "text/plain": [
       "Discipline Athletics                 \n",
       "Event           100m       200m      \n",
       "Gender           Men Women  Men Women\n",
       "NOC                                  \n",
       "JAM              1.0   3.0  1.0   2.0\n",
       "TRI              1.0   NaN  NaN   NaN\n",
       "USA              1.0   NaN  2.0   1.0"
      ]
     },
     "execution_count": 128,
     "metadata": {},
     "output_type": "execute_result"
    }
   ],
   "source": [
    "df.unstack('Gender')"
   ]
  },
  {
   "cell_type": "code",
   "execution_count": 139,
   "metadata": {},
   "outputs": [
    {
     "data": {
      "text/plain": [
       "<AxesSubplot:xlabel='Edition'>"
      ]
     },
     "execution_count": 139,
     "metadata": {},
     "output_type": "execute_result"
    },
    {
     "data": {
      "image/png": "[encoded data removed]",
      "text/plain": [
       "<Figure size 432x288 with 1 Axes>"
      ]
     },
     "metadata": {
      "needs_background": "light"
     },
     "output_type": "display_data"
    }
   ],
   "source": [
    "golds = oo[(oo.Medal == 'Gold') & (oo.NOC == 'USA')]\n",
    "g = golds.groupby(['Edition','Gender']).size().unstack('Gender')\n",
    "g.plot(kind = 'line')"
   ]
  },
  {
   "cell_type": "code",
   "execution_count": 150,
   "metadata": {},
   "outputs": [
    {
     "data": {
      "text/plain": [
       "<AxesSubplot:xlabel='Athlete'>"
      ]
     },
     "execution_count": 150,
     "metadata": {},
     "output_type": "execute_result"
    },
    {
     "data": {
      "image/png": "[encoded data removed]",
      "text/plain": [
       "<Figure size 432x288 with 1 Axes>"
      ]
     },
     "metadata": {
      "needs_background": "light"
     },
     "output_type": "display_data"
    }
   ],
   "source": [
    "g = oo.groupby(['Athlete','Medal']).size().unstack('Medal', fill_value = 0)\n",
    "g.sort_values(['Gold','Silver','Bronze'], ascending = False)[['Gold','Silver','Bronze']].head().plot(kind = 'bar')"
   ]
  },
  {
   "cell_type": "code",
   "execution_count": 157,
   "metadata": {},
   "outputs": [],
   "source": [
    "bei = oo[oo.Edition == 2008]\n",
    "countries = bei.groupby(['NOC','Medal']).size().unstack('Medal', fill_value = 0)"
   ]
  },
  {
   "cell_type": "code",
   "execution_count": 168,
   "metadata": {},
   "outputs": [],
   "source": [
    "plot = countries.sort_values(['Gold','Silver','Bronze'], ascending = False)[['Gold','Silver','Bronze']]\n",
    "plot = plot.transpose()\n"
   ]
  },
  {
   "cell_type": "code",
   "execution_count": 176,
   "metadata": {},
   "outputs": [
    {
     "data": {
      "text/plain": [
       "<AxesSubplot:xlabel='NOC', ylabel='Medal'>"
      ]
     },
     "execution_count": 176,
     "metadata": {},
     "output_type": "execute_result"
    },
    {
     "data": {
      "image/png": "[encoded data removed]",
      "text/plain": [
       "<Figure size 1152x360 with 2 Axes>"
      ]
     },
     "metadata": {
      "needs_background": "light"
     },
     "output_type": "display_data"
    }
   ],
   "source": [
    "matplotlib.pyplot.figure(figsize = (16,5))\n",
    "sns.heatmap(plot, cmap = 'Blues')"
   ]
  },
  {
   "cell_type": "code",
   "execution_count": 240,
   "metadata": {},
   "outputs": [
    {
     "name": "stdout",
     "output_type": "stream",
     "text": [
      "Medal  Edition                      Athlete  Bronze  Gold  Silver  Total\n",
      "5         1896              GARRETT, Robert       0     2       2      4\n",
      "14        1900               BAXTER, Irving       0     2       3      5\n",
      "153       1904                 HEIDA, Anton       0     5       1      6\n",
      "363       1908             SHERIDAN, Martin       1     2       0      3\n",
      "421       1912        OSBURN, Carl Townsend       1     1       2      4\n",
      "506       1920                  LEE, Willis       1     5       1      7\n",
      "733       1924          WEISSMULLER, Johnny       1     3       0      4\n",
      "800       1928       OSIPOWICH, Albina Lucy       0     2       0      2\n",
      "859       1932           DIDRIKSON, Mildred       0     2       1      3\n",
      "1028      1936                 OWENS, Jesse       0     4       0      4\n",
      "1128      1948      MCLANE, James Price Jr.       0     2       1      3\n",
      "1234      1952          KONNO, Ford Hiroshi       0     2       1      3\n",
      "1379      1956        MORROW, Robert Joseph       0     3       0      3\n",
      "1500      1960  VON SALTZA, Susan Christina       0     3       1      4\n",
      "1619      1964        STOUDER, Sharon Marie       0     3       1      4\n",
      "1673      1968    HICKCOX, Charles Buchanan       0     3       1      4\n",
      "1844      1972                  SPITZ, Mark       0     7       0      7\n",
      "1870      1976    BABASHOFF, Shirley Farber       0     1       4      5\n",
      "2207      1984             RETTON, Mary-Lou       2     1       2      5\n",
      "2294      1988              BIONDI, Matthew       1     5       1      7\n",
      "2567      1992              MILLER, Shannon       3     0       2      5\n",
      "2703      1996               HALL, Gary Jr.       0     2       2      4\n",
      "3045      2000                 TORRES, Dara       3     2       0      5\n",
      "3226      2004              PHELPS, Michael       2     6       0      8\n",
      "3463      2008              PHELPS, Michael       0     8       0      8\n"
     ]
    }
   ],
   "source": [
    "ath = oo[(oo.NOC == 'USA')]\n",
    "#a = ath.groupby(['Athlete','Discipline','Medal']).size().unstack('Medal', fill_value = 0)\n",
    "a = ath.groupby(['Edition', 'Athlete', 'Medal']).size().unstack('Medal', fill_value = 0)\n",
    "a['Total'] = a['Gold'] + a['Silver'] + a['Bronze']\n",
    "a.reset_index(inplace=True)\n",
    "\n",
    "top = [group.sort_values('Total', ascending = False)[:1] for year, group in a.groupby('Edition')]\n",
    "final = pd.DataFrame([])\n",
    "\n",
    "for row in top:\n",
    "    final = pd.concat([final, row])\n",
    "\n",
    "print(final)"
   ]
  },
  {
   "cell_type": "code",
   "execution_count": null,
   "metadata": {},
   "outputs": [],
   "source": []
  }
 ],
 "metadata": {
  "kernelspec": {
   "display_name": "Python 3.10.6 64-bit (windows store)",
   "language": "python",
   "name": "python3"
  },
  "language_info": {
   "codemirror_mode": {
    "name": "ipython",
    "version": 3
   },
   "file_extension": ".py",
   "mimetype": "text/x-python",
   "name": "python",
   "nbconvert_exporter": "python",
   "pygments_lexer": "ipython3",
   "version": "3.10.6"
  },
  "orig_nbformat": 4,
  "vscode": {
   "interpreter": {
    "hash": "dcd981e1b9591bbbc34c7cab038297872ebe6377705778e201e2f972df23c65b"
   }
  }
 },
 "nbformat": 4,
 "nbformat_minor": 2
}
