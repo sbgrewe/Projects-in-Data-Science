{
 "cells": [
  {
   "attachments": {},
   "cell_type": "markdown",
   "metadata": {},
   "source": [
    "following along:\n",
    "https://www.youtube.com/watch?v=hxGA1Je1P-s&list=PLNrSf2BHVEnPCrCHf8SR_TAIB3O9JmAWk&index=26\n",
    "\n",
    "In this notebook, we will use GPU acceleration on pytorch to numerically solve the Schrodinger eqn for a hydrogen atom, and then present the results "
   ]
  },
  {
   "cell_type": "code",
   "execution_count": null,
   "metadata": {},
   "outputs": [],
   "source": [
    "import numpy as np\n",
    "from scipy.sparse.linalg import eigsh\n",
    "from scipy.sparse.linalg import eigs\n",
    "import matplotlib.pyplot as plt\n",
    "from matplotlib import animation\n",
    "from mpl_toolkits.mplot3d import Axes3D\n",
    "from matplotlib,animation import PillowWriter\n",
    "import scienceplots\n",
    "plt.style.use(['science','notebook'])\n",
    "from scipy import sparse\n",
    "from skimage import measure\n",
    "import torch\n",
    "import plotly.graph_objects as go\n",
    "from torch import lobpcg\n",
    "device = torch.device('cuda' if torch.cuda.is_available() else 'cpu')"
   ]
  }
 ],
 "metadata": {
  "language_info": {
   "name": "python"
  },
  "orig_nbformat": 4
 },
 "nbformat": 4,
 "nbformat_minor": 2
}
