{
 "cells": [
  {
   "cell_type": "code",
   "execution_count": 2,
   "metadata": {},
   "outputs": [],
   "source": [
    "import random\n",
    "import pandas as pd\n",
    "import numpy as np\n",
    "import matplotlib.pyplot as plt\n",
    "import seaborn as sns"
   ]
  },
  {
   "cell_type": "code",
   "execution_count": 7,
   "metadata": {},
   "outputs": [
    {
     "data": {
      "image/png": "[encoded data removed]",
      "text/plain": [
       "<Figure size 432x288 with 1 Axes>"
      ]
     },
     "metadata": {
      "needs_background": "light"
     },
     "output_type": "display_data"
    },
    {
     "data": {
      "image/png": "[encoded data removed]",
      "text/plain": [
       "<Figure size 432x288 with 1 Axes>"
      ]
     },
     "metadata": {
      "needs_background": "light"
     },
     "output_type": "display_data"
    },
    {
     "data": {
      "image/png": "[encoded data removed]",
      "text/plain": [
       "<Figure size 432x288 with 1 Axes>"
      ]
     },
     "metadata": {
      "needs_background": "light"
     },
     "output_type": "display_data"
    },
    {
     "data": {
      "image/png": "[encoded data removed]",
      "text/plain": [
       "<Figure size 432x288 with 1 Axes>"
      ]
     },
     "metadata": {
      "needs_background": "light"
     },
     "output_type": "display_data"
    },
    {
     "data": {
      "image/png": "[encoded data removed]",
      "text/plain": [
       "<Figure size 432x288 with 1 Axes>"
      ]
     },
     "metadata": {
      "needs_background": "light"
     },
     "output_type": "display_data"
    }
   ],
   "source": [
    "def main(stat, runs):\n",
    "    upper_bound = stat\n",
    "    lower_bound = (stat//2 - 1)\n",
    "    results = []\n",
    "\n",
    "    for run in np.arange(runs):\n",
    "        sum = 0\n",
    "        for number in np.arange(1,101):\n",
    "            sum += random.randint(lower_bound, upper_bound)\n",
    "        results.append(sum)\n",
    "    return results\n",
    "\n",
    "def create_hist(data):\n",
    "    fig, ax = plt.subplots()\n",
    "    ax.hist(data, bins=50, linewidth=0.5)\n",
    "    ax.set(xlim=(200,1000), xticks=np.arange(200, 1200, 100),\n",
    "       ylim=(0, 65), yticks=np.arange(0,65,5))\n",
    "    plt.show()\n",
    "\n",
    "if __name__ == '__main__':\n",
    "    twelve = main(12,1000)\n",
    "    df12 = pd.DataFrame(twelve)\n",
    "    create_hist(df12)\n",
    "\n",
    "    ten = main(10,1000)\n",
    "    df10 = pd.DataFrame(ten)\n",
    "    create_hist(df10)\n",
    "\n",
    "    eight = main(8,1000)\n",
    "    df8 = pd.DataFrame(eight)\n",
    "    create_hist(df8)\n",
    "\n",
    "    six = main(6,1000)\n",
    "    df6 = pd.DataFrame(six)\n",
    "    create_hist(df6)\n",
    "\n",
    "    four = main(4,1000)\n",
    "    df4 = pd.DataFrame(four)\n",
    "    create_hist(df4)"
   ]
  },
  {
   "cell_type": "code",
   "execution_count": null,
   "metadata": {},
   "outputs": [],
   "source": [
    "def main(stat, runs):\n",
    "    upper_bound = stat\n",
    "    lower_bound = (stat//2 - 1)\n",
    "    results = []\n",
    "\n",
    "    for run in np.arange(runs):\n",
    "        sum = 0\n",
    "        for number in np.arange(100):\n",
    "            sum += random.randint(lower_bound, upper_bound)\n",
    "        results.append(sum/100)\n",
    "    return results\n",
    "\n",
    "def create_hist(data):\n",
    "    fig, ax = plt.subplots()\n",
    "    ax.hist(data, bins=50, linewidth=1)\n",
    "    ax.set(xlim=(2,10), xticks=np.arange(2, 10, 1),\n",
    "       ylim=(0, 70), yticks=np.arange(0,75,5))\n",
    "    plt.show()\n",
    "\n",
    "if __name__ == '__main__':\n",
    "    twelve = main(12,1000)\n",
    "    df12 = pd.DataFrame(twelve)\n",
    "    create_hist(df12)\n",
    "\n",
    "    ten = main(10,1000)\n",
    "    df10 = pd.DataFrame(ten)\n",
    "    create_hist(df10)\n",
    "\n",
    "    eight = main(8,1000)\n",
    "    df8 = pd.DataFrame(eight)\n",
    "    create_hist(df8)\n",
    "\n",
    "    six = main(6,1000)\n",
    "    df6 = pd.DataFrame(six)\n",
    "    create_hist(df6)\n",
    "\n",
    "    four = main(4,1000)\n",
    "    df4 = pd.DataFrame(four)\n",
    "    create_hist(df4)"
   ]
  },
  {
   "cell_type": "code",
   "execution_count": 95,
   "metadata": {},
   "outputs": [
    {
     "data": {
      "text/html": [
       "<div>\n",
       "<style scoped>\n",
       "    .dataframe tbody tr th:only-of-type {\n",
       "        vertical-align: middle;\n",
       "    }\n",
       "\n",
       "    .dataframe tbody tr th {\n",
       "        vertical-align: top;\n",
       "    }\n",
       "\n",
       "    .dataframe thead th {\n",
       "        text-align: right;\n",
       "    }\n",
       "</style>\n",
       "<table border=\"1\" class=\"dataframe\">\n",
       "  <thead>\n",
       "    <tr style=\"text-align: right;\">\n",
       "      <th></th>\n",
       "      <th>Trial</th>\n",
       "      <th>Average</th>\n",
       "      <th>StDev</th>\n",
       "      <th>Var</th>\n",
       "      <th>Lower Range</th>\n",
       "      <th>Upper Range</th>\n",
       "    </tr>\n",
       "  </thead>\n",
       "  <tbody>\n",
       "    <tr>\n",
       "      <th>0</th>\n",
       "      <td>12</td>\n",
       "      <td>848.652</td>\n",
       "      <td>23.27202</td>\n",
       "      <td>541.58690</td>\n",
       "      <td>778.836</td>\n",
       "      <td>918.468</td>\n",
       "    </tr>\n",
       "    <tr>\n",
       "      <th>1</th>\n",
       "      <td>10</td>\n",
       "      <td>699.484</td>\n",
       "      <td>19.22477</td>\n",
       "      <td>369.59174</td>\n",
       "      <td>629.668</td>\n",
       "      <td>769.300</td>\n",
       "    </tr>\n",
       "    <tr>\n",
       "      <th>2</th>\n",
       "      <td>8</td>\n",
       "      <td>549.946</td>\n",
       "      <td>17.37444</td>\n",
       "      <td>301.87108</td>\n",
       "      <td>480.130</td>\n",
       "      <td>619.762</td>\n",
       "    </tr>\n",
       "    <tr>\n",
       "      <th>3</th>\n",
       "      <td>6</td>\n",
       "      <td>399.838</td>\n",
       "      <td>14.90657</td>\n",
       "      <td>222.20576</td>\n",
       "      <td>330.022</td>\n",
       "      <td>469.654</td>\n",
       "    </tr>\n",
       "    <tr>\n",
       "      <th>4</th>\n",
       "      <td>4</td>\n",
       "      <td>250.239</td>\n",
       "      <td>11.25655</td>\n",
       "      <td>126.70988</td>\n",
       "      <td>180.423</td>\n",
       "      <td>320.055</td>\n",
       "    </tr>\n",
       "  </tbody>\n",
       "</table>\n",
       "</div>"
      ],
      "text/plain": [
       "   Trial  Average     StDev        Var Lower Range Upper Range\n",
       "0     12  848.652  23.27202  541.58690     778.836     918.468\n",
       "1     10  699.484  19.22477  369.59174     629.668     769.300\n",
       "2      8  549.946  17.37444  301.87108     480.130     619.762\n",
       "3      6  399.838  14.90657  222.20576     330.022     469.654\n",
       "4      4  250.239  11.25655  126.70988     180.423     320.055"
      ]
     },
     "execution_count": 95,
     "metadata": {},
     "output_type": "execute_result"
    }
   ],
   "source": [
    "\n",
    "averages = [round(np.average(frame), 3) for frame in [df12,df10,df8,df6,df4]]\n",
    "stdevs = [round(float(np.std(frame)), 5) for frame in [df12,df10,df8,df6,df4]]\n",
    "vars = [round(float((np.std(frame) ** 2)), 5) for frame in [df12,df10,df8,df6,df4]]\n",
    "\n",
    "\n",
    "range_lower = []\n",
    "range_upper = []\n",
    "for n in np.arange(0,5):\n",
    "    range_lower.append(format((averages[n] - 3*stdevs[0]),'.3f'))\n",
    "    range_upper.append(format((averages[n] + 3*stdevs[0]),'.3f'))\n",
    "\n",
    "summary = pd.DataFrame({\n",
    "    \"Trial\": [12,10,8,6,4],\n",
    "    \"Average\": averages,\n",
    "    \"StDev\": stdevs,\n",
    "    \"Var\": vars,\n",
    "    \"Lower Range\": range_lower,\n",
    "    \"Upper Range\": range_upper\n",
    "})\n",
    "\n",
    "summary"
   ]
  },
  {
   "cell_type": "code",
   "execution_count": 109,
   "metadata": {},
   "outputs": [
    {
     "data": {
      "text/plain": [
       "<AxesSubplot:xlabel='Trial', ylabel='Average'>"
      ]
     },
     "execution_count": 109,
     "metadata": {},
     "output_type": "execute_result"
    },
    {
     "data": {
      "image/png": "[encoded data removed]",
      "text/plain": [
       "<Figure size 432x288 with 1 Axes>"
      ]
     },
     "metadata": {
      "needs_background": "light"
     },
     "output_type": "display_data"
    }
   ],
   "source": [
    "sns.barplot(data=summary, y = 'Average', x =\"Trial\")"
   ]
  },
  {
   "cell_type": "code",
   "execution_count": 45,
   "metadata": {},
   "outputs": [
    {
     "data": {
      "text/plain": [
       "<matplotlib.legend.Legend at 0x1bfa05474c0>"
      ]
     },
     "execution_count": 45,
     "metadata": {},
     "output_type": "execute_result"
    },
    {
     "data": {
      "image/png": "[encoded data removed]",
      "text/plain": [
       "<Figure size 432x288 with 1 Axes>"
      ]
     },
     "metadata": {
      "needs_background": "light"
     },
     "output_type": "display_data"
    }
   ],
   "source": [
    "from scipy import stats\n",
    "x_ex = [0,1,2,3,4,5,6,7]\n",
    "y_ex = [0,1.34,2.41,3.1,4.13,5.76,6.99,7.14]\n",
    "\n",
    "data_ex = pd.DataFrame({\n",
    "\"x_ex\": x_ex,\n",
    "\"y_ex\": y_ex\n",
    "})\n",
    "\n",
    "slope, intercept, r_value, pv, se = stats.linregress(data_ex['x_ex'], data_ex['y_ex'])\n",
    "        \n",
    "sns.regplot(x=\"x_ex\", y=\"y_ex\", data=data_ex, \n",
    "    ci=None, label=r'y = {0:.3f}x + {1:.3f}, R2: {2:.5f}'.format(slope,intercept,(r_value**2))).legend(loc=\"best\")"
   ]
  },
  {
   "cell_type": "code",
   "execution_count": null,
   "metadata": {},
   "outputs": [],
   "source": [
    "def main(stat, runs):\n",
    "    upper_bound = stat\n",
    "    lower_bound = (stat//2 - 1)\n",
    "    results = []\n",
    "\n",
    "    for run in np.arange(runs):\n",
    "        sum = 0\n",
    "        for number in np.arange(100):\n",
    "            sum += random.randint(lower_bound, upper_bound)\n",
    "        results.append(sum)\n",
    "    return results\n",
    "\n",
    "def create_hist(data):\n",
    "    fig, ax = plt.subplots()\n",
    "    ax.hist(data, bins=50, linewidth=1)\n",
    "    ax.set(xlim=(2,10), xticks=np.arange(2, 10, 1),\n",
    "       ylim=(0, 70), yticks=np.arange(0,75,5))\n",
    "    plt.show()\n",
    "\n",
    "\n",
    "if __name__ == '__main__':\n",
    "    twelve = main(12,1000)\n",
    "    df12 = pd.DataFrame(twelve)\n",
    "    create_hist(df12)\n",
    "\n",
    "    ten = main(10,1000)\n",
    "    df10 = pd.DataFrame(ten)\n",
    "    create_hist(df10)\n",
    "\n",
    "    eight = main(8,1000)\n",
    "    df8 = pd.DataFrame(eight)\n",
    "    create_hist(df8)\n",
    "\n",
    "    six = main(6,1000)\n",
    "    df6 = pd.DataFrame(six)\n",
    "    create_hist(df6)\n",
    "\n",
    "    four = main(4,1000)\n",
    "    df4 = pd.DataFrame(four)\n",
    "    create_hist(df4)"
   ]
  }
 ],
 "metadata": {
  "kernelspec": {
   "display_name": "Python 3.10.6 64-bit",
   "language": "python",
   "name": "python3"
  },
  "language_info": {
   "codemirror_mode": {
    "name": "ipython",
    "version": 3
   },
   "file_extension": ".py",
   "mimetype": "text/x-python",
   "name": "python",
   "nbconvert_exporter": "python",
   "pygments_lexer": "ipython3",
   "version": "3.10.6"
  },
  "orig_nbformat": 4,
  "vscode": {
   "interpreter": {
    "hash": "28df29166082bf3fe100e6562797ea080ccf1fb990a37a519c80871eb68cb051"
   }
  }
 },
 "nbformat": 4,
 "nbformat_minor": 2
}
