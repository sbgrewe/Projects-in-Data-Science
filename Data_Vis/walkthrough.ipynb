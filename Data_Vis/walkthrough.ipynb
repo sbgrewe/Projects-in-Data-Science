{
  "cells": [
    {
      "cell_type": "raw",
      "metadata": {},
      "source": [
        "---\n",
        "title: Walkthrough\n",
        "subtitle: subtitle\n",
        "author: Spencer Grewe\n",
        "date: mm-dd-yyyy\n",
        "execute:\n",
        "  echo: true\n",
        "  message: false\n",
        "  warning: false\n",
        "format:\n",
        "  pdf:\n",
        "    fig-height: 3.25\n",
        "    fig-width: 6\n",
        "    toc: true\n",
        "    toc-title: Table of Contents\n",
        "mainfont: Source Sans Pro\n",
        "sansfont: Source Sans Pro\n",
        "monofont: CascadiaMono-Regular\n",
        "editor: visual\n",
        "---"
      ],
      "id": "37195705"
    },
    {
      "cell_type": "markdown",
      "metadata": {},
      "source": [
        "\\newpage\n",
        "\n",
        "## Part 1\n"
      ],
      "id": "e0c5d2fc"
    },
    {
      "cell_type": "code",
      "metadata": {},
      "source": [
        "#| label: fig-polar\n",
        "#| fig-cap: A line plot on a polar axis\n",
        "\n",
        "import numpy as np\n",
        "import matplotlib.pyplot as plt\n",
        "import pandas as pd\n",
        "\n",
        "path = \n",
        "\n",
        "\n",
        "r = np.arange(0, 2, 0.01)\n",
        "theta = 2 * np.pi * r\n",
        "fig, ax = plt.subplots(\n",
        "  subplot_kw = {'projection': 'polar'} \n",
        ")\n",
        "ax.plot(theta, r)\n",
        "ax.set_rticks([0.5, 1, 1.5, 2])\n",
        "ax.grid(True)\n",
        "plt.show()"
      ],
      "id": "fig-polar",
      "execution_count": null,
      "outputs": []
    }
  ],
  "metadata": {
    "kernelspec": {
      "display_name": "Python 3",
      "language": "python",
      "name": "python3"
    }
  },
  "nbformat": 4,
  "nbformat_minor": 5
}